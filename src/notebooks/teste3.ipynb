{
 "cells": [
  {
   "cell_type": "code",
   "execution_count": null,
   "metadata": {},
   "outputs": [],
   "source": [
    "#Importando bibliotecas necessárias\n",
    "import pandas as pd\n"
   ]
  },
  {
   "cell_type": "markdown",
   "metadata": {},
   "source": [
    "# Pré-processamento do arquivo de input"
   ]
  },
  {
   "cell_type": "code",
   "execution_count": null,
   "metadata": {},
   "outputs": [],
   "source": [
    "# Arquivo disponibilizado para o teste 3, .xlsm ao invés de .csv.\n",
    "# A base de dados disponibilizada está bem suja, não contém somente os campos indicados/esperados, temos células mescladas, entre outras coisas que precisam ser tratadas antes de aplicar qualquer modelo.\n",
    "\n",
    "#Carrega o arquivo em um objeto xl\n",
    "caminho_xlsm = \"../../data/Planilha em First_Desafio_ciencia_de_dados_SR (1) 1 (1).xlsm\"\n",
    "xl = pd.ExcelFile(caminho_xlsm)\n",
    "\n",
    "#Confirma a quantidade e nomes das abas da planilha\n",
    "df_sheets = xl.sheet_names\n",
    "df_sheets\n",
    "\n",
    "#Carrega os dados dessa planilha única em um dataframe\n",
    "df = xl.parse()"
   ]
  },
  {
   "cell_type": "code",
   "execution_count": null,
   "metadata": {},
   "outputs": [],
   "source": [
    "# Vamos entender/visualizar a estrutura da base de dados\n",
    "# Vemos que as informações que precisamos para o case estão colapsadas na primeira coluna, mas existem muitas outras disponíveis e que não estão vazias então precisamos subdividir nosso dataframe.\n",
    "df.info()"
   ]
  },
  {
   "cell_type": "code",
   "execution_count": null,
   "metadata": {},
   "outputs": [],
   "source": [
    "# Visualizar todas as colunas disponíveis na base de dados, confirmando que as informações que precisamos estão agregadas na primeira coluna apenas e precisamos splitar para acessar individualmente cada coluna.\n",
    "df.columns"
   ]
  },
  {
   "cell_type": "code",
   "execution_count": null,
   "metadata": {},
   "outputs": [],
   "source": [
    "#Como temos muitas colunas não nomeadas e com informações não nulas nelas, dei uma olhada na variedade de informações que estão lá, mas usar essas informações neste momento é ruim, pois não temos certeza do que de fato representam. Por isso optei por apenas filtrar a coluna de dados que precisamos para responder o case - teste 3 e ainda assim, vamos precisar tratar os dados.\n",
    "df['Unnamed: 1'].value_counts()"
   ]
  },
  {
   "cell_type": "code",
   "execution_count": null,
   "metadata": {},
   "outputs": [],
   "source": [
    "#Pega apenas a primeira columna, onde está o que precisamos.\n",
    "serie = df['name,description,employees,total_funding,city,subcountry,lat,lng']\n",
    "serie"
   ]
  },
  {
   "cell_type": "code",
   "execution_count": null,
   "metadata": {},
   "outputs": [],
   "source": [
    "# Usar str.split() para dividir os dados da série\n",
    "dados_divididos = serie.str.split('\"')\n",
    "dados_divididos"
   ]
  },
  {
   "cell_type": "code",
   "execution_count": null,
   "metadata": {},
   "outputs": [],
   "source": [
    "#Identificando e isolando as informação\n",
    "name = dados_divididos[0][0]\n",
    "description = dados_divididos[0][1]\n",
    "tail = dados_divididos[0][2].split(\",\")[1:]\n",
    "employees = tail[0]\n",
    "total_funding = tail[1]\n",
    "city = tail[2]\n",
    "subcountry = tail[3]\n",
    "lat = tail[4]\n",
    "lng = tail[5]\n"
   ]
  },
  {
   "cell_type": "code",
   "execution_count": null,
   "metadata": {},
   "outputs": [],
   "source": [
    "dados = {'name': name, 'description': description, 'employees': employees,\n",
    "         'total_funding':total_funding,'city':city,'subcountry':subcountry,'lat':lat,'lng':lng}\n",
    "\n",
    "tipos_de_dados = {\n",
    "    'name' : 'str',\n",
    "    'description' : 'str',\n",
    "    'employees' : 'int',\n",
    "    'total_funding' : 'float',\n",
    "    'city' : 'str',\n",
    "    'subcountry' : 'str',\n",
    "    'lat': 'float',\n",
    "    'long': 'float'\n",
    "}"
   ]
  },
  {
   "cell_type": "code",
   "execution_count": null,
   "metadata": {},
   "outputs": [],
   "source": [
    "dados"
   ]
  },
  {
   "cell_type": "code",
   "execution_count": null,
   "metadata": {},
   "outputs": [],
   "source": [
    "tipos_de_dados"
   ]
  },
  {
   "cell_type": "code",
   "execution_count": 261,
   "metadata": {},
   "outputs": [
    {
     "data": {
      "text/html": [
       "<div>\n",
       "<style scoped>\n",
       "    .dataframe tbody tr th:only-of-type {\n",
       "        vertical-align: middle;\n",
       "    }\n",
       "\n",
       "    .dataframe tbody tr th {\n",
       "        vertical-align: top;\n",
       "    }\n",
       "\n",
       "    .dataframe thead th {\n",
       "        text-align: right;\n",
       "    }\n",
       "</style>\n",
       "<table border=\"1\" class=\"dataframe\">\n",
       "  <thead>\n",
       "    <tr style=\"text-align: right;\">\n",
       "      <th></th>\n",
       "      <th>name</th>\n",
       "      <th>description</th>\n",
       "      <th>employees</th>\n",
       "      <th>total_funding</th>\n",
       "      <th>city</th>\n",
       "      <th>subcountry</th>\n",
       "      <th>lat</th>\n",
       "      <th>lng</th>\n",
       "    </tr>\n",
       "  </thead>\n",
       "  <tbody>\n",
       "    <tr>\n",
       "      <th>0</th>\n",
       "      <td>fitin,</td>\n",
       "      <td>fitin is the latest fit tech platform that pro...</td>\n",
       "      <td>1.0</td>\n",
       "      <td>nan</td>\n",
       "      <td>toronto</td>\n",
       "      <td>ontario</td>\n",
       "      <td>43.700109999999995</td>\n",
       "      <td>-79.4163</td>\n",
       "    </tr>\n",
       "  </tbody>\n",
       "</table>\n",
       "</div>"
      ],
      "text/plain": [
       "     name                                        description employees  \\\n",
       "0  fitin,  fitin is the latest fit tech platform that pro...       1.0   \n",
       "\n",
       "  total_funding     city subcountry                 lat       lng  \n",
       "0           nan  toronto    ontario  43.700109999999995  -79.4163  "
      ]
     },
     "execution_count": 261,
     "metadata": {},
     "output_type": "execute_result"
    }
   ],
   "source": [
    "# Criar DataFrame com tipos de dados definidos\n",
    "#Estou encerrando por aqui, por falta de tempo. \n",
    "df = pd.DataFrame.from_dict(dados, orient='index').T\n",
    "df"
   ]
  },
  {
   "cell_type": "code",
   "execution_count": 262,
   "metadata": {},
   "outputs": [
    {
     "name": "stdout",
     "output_type": "stream",
     "text": [
      "<class 'pandas.core.frame.DataFrame'>\n",
      "RangeIndex: 1 entries, 0 to 0\n",
      "Data columns (total 8 columns):\n",
      " #   Column         Non-Null Count  Dtype \n",
      "---  ------         --------------  ----- \n",
      " 0   name           1 non-null      object\n",
      " 1   description    1 non-null      object\n",
      " 2   employees      1 non-null      object\n",
      " 3   total_funding  1 non-null      object\n",
      " 4   city           1 non-null      object\n",
      " 5   subcountry     1 non-null      object\n",
      " 6   lat            1 non-null      object\n",
      " 7   lng            1 non-null      object\n",
      "dtypes: object(8)\n",
      "memory usage: 192.0+ bytes\n"
     ]
    }
   ],
   "source": [
    "df.info()"
   ]
  },
  {
   "cell_type": "markdown",
   "metadata": {},
   "source": [
    "# O próximo passo seria arrumar os dtypes, verificar valores nulo e um pouco mais de exploração dos dados e por fim o desenho de machine learning."
   ]
  },
  {
   "cell_type": "code",
   "execution_count": null,
   "metadata": {},
   "outputs": [],
   "source": [
    "# Contagem de valores nulos por coluna\n",
    "nulos_por_coluna = df.isnull().sum()\n",
    "print(nulos_por_coluna)"
   ]
  },
  {
   "cell_type": "code",
   "execution_count": null,
   "metadata": {},
   "outputs": [],
   "source": [
    "#Tratamento de Valores Nulos:\n"
   ]
  }
 ],
 "metadata": {
  "kernelspec": {
   "display_name": "Python 3",
   "language": "python",
   "name": "python3"
  },
  "language_info": {
   "codemirror_mode": {
    "name": "ipython",
    "version": 3
   },
   "file_extension": ".py",
   "mimetype": "text/x-python",
   "name": "python",
   "nbconvert_exporter": "python",
   "pygments_lexer": "ipython3",
   "version": "3.9.10"
  }
 },
 "nbformat": 4,
 "nbformat_minor": 2
}
